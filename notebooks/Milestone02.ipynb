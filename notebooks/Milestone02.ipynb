{
 "cells": [
  {
   "cell_type": "markdown",
   "metadata": {
    "toc": true
   },
   "source": [
    "<h1>Table of Contents<span class=\"tocSkip\"></span></h1>\n",
    "<div class=\"toc\"><ul class=\"toc-item\"><li><span><a href=\"#Customizing-your-Notebooks\" data-toc-modified-id=\"Customizing-your-Notebooks-1\"><span class=\"toc-item-num\">1&nbsp;&nbsp;</span>Customizing your Notebooks</a></span><ul class=\"toc-item\"><li><span><a href=\"#Installing-Python-packages\" data-toc-modified-id=\"Installing-Python-packages-1.1\"><span class=\"toc-item-num\">1.1&nbsp;&nbsp;</span>Installing Python packages</a></span></li><li><span><a href=\"#(Optional)-Using-shell-commands-in-your-Notebooks\" data-toc-modified-id=\"(Optional)-Using-shell-commands-in-your-Notebooks-1.2\"><span class=\"toc-item-num\">1.2&nbsp;&nbsp;</span>(Optional) Using shell commands in your Notebooks</a></span></li><li><span><a href=\"#Magics\" data-toc-modified-id=\"Magics-1.3\"><span class=\"toc-item-num\">1.3&nbsp;&nbsp;</span>Magics</a></span><ul class=\"toc-item\"><li><span><a href=\"#Use-LaTeX-if-you-have-to-write-equations\" data-toc-modified-id=\"Use-LaTeX-if-you-have-to-write-equations-1.3.1\"><span class=\"toc-item-num\">1.3.1&nbsp;&nbsp;</span>Use LaTeX if you have to write equations</a></span></li><li><span><a href=\"#Timing\" data-toc-modified-id=\"Timing-1.3.2\"><span class=\"toc-item-num\">1.3.2&nbsp;&nbsp;</span>Timing</a></span></li><li><span><a href=\"#HTML\" data-toc-modified-id=\"HTML-1.3.3\"><span class=\"toc-item-num\">1.3.3&nbsp;&nbsp;</span>HTML</a></span></li></ul></li></ul></li><li><span><a href=\"#Use-LaTeX\" data-toc-modified-id=\"Use-LaTeX-2\"><span class=\"toc-item-num\">2&nbsp;&nbsp;</span>Use LaTeX</a></span></li></ul></div>"
   ]
  },
  {
   "cell_type": "markdown",
   "metadata": {},
   "source": [
    "# Customizing your Notebooks\n",
    "## Installing Python packages"
   ]
  },
  {
   "cell_type": "code",
   "execution_count": 9,
   "metadata": {},
   "outputs": [
    {
     "name": "stdout",
     "output_type": "stream",
     "text": [
      "Requirement already satisfied: numpy in /home/zoli/PycharmProjects/gettingStartedWithJupyter/venv/lib/python3.8/site-packages (1.19.2)\n",
      "\u001B[33mWARNING: You are using pip version 20.2.3; however, version 21.0.1 is available.\n",
      "You should consider upgrading via the '/home/zoli/PycharmProjects/gettingStartedWithJupyter/venv/bin/python -m pip install --upgrade pip' command.\u001B[0m\n"
     ]
    }
   ],
   "source": [
    "!pip install numpy"
   ]
  },
  {
   "cell_type": "markdown",
   "metadata": {},
   "source": [
    "## (Optional) Using shell commands in your Notebooks"
   ]
  },
  {
   "cell_type": "code",
   "execution_count": 10,
   "metadata": {},
   "outputs": [
    {
     "name": "stdout",
     "output_type": "stream",
     "text": [
      "/home/zoli/PycharmProjects/gettingStartedWithJupyter/notebooks\n",
      "/home/zoli/PycharmProjects/gettingStartedWithJupyter/notebooks\n",
      "13\n"
     ]
    }
   ],
   "source": [
    "!pwd\n",
    "!cd ..\n",
    "!pwd\n",
    "!ls -all | wc -l"
   ]
  },
  {
   "cell_type": "markdown",
   "metadata": {},
   "source": [
    "## Magics\n",
    "### Use LaTeX if you have to write equations"
   ]
  },
  {
   "cell_type": "code",
   "execution_count": 11,
   "metadata": {},
   "outputs": [
    {
     "data": {
      "text/latex": [
       "$x^{2} + y^{2} = z^{2}$\n"
      ],
      "text/plain": [
       "<IPython.core.display.Latex object>"
      ]
     },
     "metadata": {},
     "output_type": "display_data"
    }
   ],
   "source": [
    "%%latex\n",
    "$x^{2} + y^{2} = z^{2}$"
   ]
  },
  {
   "cell_type": "markdown",
   "metadata": {},
   "source": [
    "### Timing\n",
    "Let's see which implementation of factorial runs faster."
   ]
  },
  {
   "cell_type": "code",
   "execution_count": 12,
   "metadata": {},
   "outputs": [],
   "source": [
    "def factorialA(n):\n",
    "    fact = 1\n",
    "    for i in range(1, n + 1):\n",
    "        fact = fact * i\n",
    "    return fact\n",
    "\n",
    "\n",
    "def factorialB(n):\n",
    "    if n == 1:\n",
    "        return n\n",
    "    else:\n",
    "        return n * factorialB(n - 1)"
   ]
  },
  {
   "cell_type": "markdown",
   "metadata": {},
   "source": [
    "See the differences in runtime."
   ]
  },
  {
   "cell_type": "code",
   "execution_count": 13,
   "metadata": {},
   "outputs": [
    {
     "name": "stdout",
     "output_type": "stream",
     "text": [
      "5.16 µs ± 105 ns per loop (mean ± std. dev. of 7 runs, 100000 loops each)\n"
     ]
    }
   ],
   "source": [
    "%timeit factorialA(100)"
   ]
  },
  {
   "cell_type": "code",
   "execution_count": 14,
   "metadata": {},
   "outputs": [
    {
     "name": "stdout",
     "output_type": "stream",
     "text": [
      "10.6 µs ± 98.6 ns per loop (mean ± std. dev. of 7 runs, 100000 loops each)\n"
     ]
    }
   ],
   "source": [
    "%timeit factorialB(100)"
   ]
  },
  {
   "cell_type": "markdown",
   "metadata": {},
   "source": [
    "### HTML"
   ]
  },
  {
   "cell_type": "code",
   "execution_count": 15,
   "metadata": {},
   "outputs": [
    {
     "data": {
      "text/html": [
       "<iframe width=\"560\" height=\"315\" src=\"https://www.youtube.com/embed/Y7uNT0alrKk\" frameborder=\"0\" allow=\"accelerometer; autoplay; clipboard-write; encrypted-media; gyroscope; picture-in-picture\" allowfullscreen></iframe>\n"
      ],
      "text/plain": [
       "<IPython.core.display.HTML object>"
      ]
     },
     "metadata": {},
     "output_type": "display_data"
    }
   ],
   "source": [
    "%%HTML\n",
    "<iframe width=\"560\" height=\"315\" src=\"https://www.youtube.com/embed/Y7uNT0alrKk\" frameborder=\"0\" allow=\"accelerometer; autoplay; clipboard-write; encrypted-media; gyroscope; picture-in-picture\" allowfullscreen></iframe>"
   ]
  },
  {
   "cell_type": "code",
   "execution_count": 8,
   "metadata": {},
   "outputs": [],
   "source": [
    "def combinations(iterable, r):\n",
    "    from itertools import permutations\n",
    "    pool = tuple(iterable)\n",
    "    n = len(pool)\n",
    "    for indices in permutations(range(n), r):\n",
    "        if sorted(indices) == list(indices):\n",
    "            yield tuple(pool[i] for i in indices)"
   ]
  },
  {
   "cell_type": "markdown",
   "metadata": {},
   "source": [
    "# Use LaTeX\n",
    "You can write inline equations, like this one $a^2 + b^2 = c^2$.\n",
    "\n",
    "And you can insert equations separately.\n",
    "\\begin{equation*}\n",
    "P(E)   = {n \\choose k} p^k (1-p)^{ n-k}\n",
    "\\end{equation*}"
   ]
  }
 ],
 "metadata": {
  "kernelspec": {
   "display_name": "venv",
   "language": "python",
   "name": "venv"
  },
  "language_info": {
   "codemirror_mode": {
    "name": "ipython",
    "version": 3
   },
   "file_extension": ".py",
   "mimetype": "text/x-python",
   "name": "python",
   "nbconvert_exporter": "python",
   "pygments_lexer": "ipython3",
   "version": "3.8.5"
  },
  "toc": {
   "base_numbering": 1,
   "nav_menu": {},
   "number_sections": true,
   "sideBar": true,
   "skip_h1_title": false,
   "title_cell": "Table of Contents",
   "title_sidebar": "Contents",
   "toc_cell": true,
   "toc_position": {},
   "toc_section_display": true,
   "toc_window_display": false
  },
  "varInspector": {
   "cols": {
    "lenName": 16,
    "lenType": 16,
    "lenVar": 40
   },
   "kernels_config": {
    "python": {
     "delete_cmd_postfix": "",
     "delete_cmd_prefix": "del ",
     "library": "var_list.py",
     "varRefreshCmd": "print(var_dic_list())"
    },
    "r": {
     "delete_cmd_postfix": ") ",
     "delete_cmd_prefix": "rm(",
     "library": "var_list.r",
     "varRefreshCmd": "cat(var_dic_list()) "
    }
   },
   "types_to_exclude": [
    "module",
    "function",
    "builtin_function_or_method",
    "instance",
    "_Feature"
   ],
   "window_display": false
  }
 },
 "nbformat": 4,
 "nbformat_minor": 4
}