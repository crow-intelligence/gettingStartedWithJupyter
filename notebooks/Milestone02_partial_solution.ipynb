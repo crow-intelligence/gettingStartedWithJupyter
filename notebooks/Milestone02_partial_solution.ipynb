{
 "cells": [
  {
   "cell_type": "markdown",
   "metadata": {
    "toc": true
   },
   "source": [
    "<h1>Table of Contents<span class=\"tocSkip\"></span></h1>\n",
    "<div class=\"toc\"><ul class=\"toc-item\"><li><span><a href=\"#Customizing-your-Notebooks\" data-toc-modified-id=\"Customizing-your-Notebooks-1\"><span class=\"toc-item-num\">1&nbsp;&nbsp;</span>Customizing your Notebooks</a></span><ul class=\"toc-item\"><li><span><a href=\"#Using-shell-commands-in-your-Notebooks\" data-toc-modified-id=\"Using-shell-commands-in-your-Notebooks-1.1\"><span class=\"toc-item-num\">1.1&nbsp;&nbsp;</span>Using shell commands in your Notebooks</a></span></li><li><span><a href=\"#Installing-Python-packages\" data-toc-modified-id=\"Installing-Python-packages-1.2\"><span class=\"toc-item-num\">1.2&nbsp;&nbsp;</span>Installing Python packages</a></span></li><li><span><a href=\"#Magics\" data-toc-modified-id=\"Magics-1.3\"><span class=\"toc-item-num\">1.3&nbsp;&nbsp;</span>Magics</a></span><ul class=\"toc-item\"><li><span><a href=\"#Use-LaTeX-if-you-have-to-write-equations\" data-toc-modified-id=\"Use-LaTeX-if-you-have-to-write-equations-1.3.1\"><span class=\"toc-item-num\">1.3.1&nbsp;&nbsp;</span>Use LaTeX if you have to write equations</a></span></li><li><span><a href=\"#Timing\" data-toc-modified-id=\"Timing-1.3.2\"><span class=\"toc-item-num\">1.3.2&nbsp;&nbsp;</span>Timing</a></span></li><li><span><a href=\"#HTML\" data-toc-modified-id=\"HTML-1.3.3\"><span class=\"toc-item-num\">1.3.3&nbsp;&nbsp;</span>HTML</a></span></li></ul></li></ul></li><li><span><a href=\"#Use-LaTeX\" data-toc-modified-id=\"Use-LaTeX-2\"><span class=\"toc-item-num\">2&nbsp;&nbsp;</span>Use LaTeX</a></span></li></ul></div>"
   ]
  },
  {
   "cell_type": "markdown",
   "metadata": {},
   "source": [
    "<h1>Table of Contents<span class=\"tocSkip\"></span></h1>\n",
    "<div class=\"toc\"><ul class=\"toc-item\"><li><span><a href=\"#Customizing-your-Notebooks\" data-toc-modified-id=\"Customizing-your-Notebooks-1\"><span class=\"toc-item-num\">1&nbsp;&nbsp;</span>Customizing your Notebooks</a></span><ul class=\"toc-item\"><li><span><a href=\"#Installing-Python-packages\" data-toc-modified-id=\"Installing-Python-packages-1.1\"><span class=\"toc-item-num\">1.1&nbsp;&nbsp;</span>Installing Python packages</a></span></li><li><span><a href=\"#(Optional)-Using-shell-commands-in-your-Notebooks\" data-toc-modified-id=\"(Optional)-Using-shell-commands-in-your-Notebooks-1.2\"><span class=\"toc-item-num\">1.2&nbsp;&nbsp;</span>(Optional) Using shell commands in your Notebooks</a></span></li><li><span><a href=\"#Magics\" data-toc-modified-id=\"Magics-1.3\"><span class=\"toc-item-num\">1.3&nbsp;&nbsp;</span>Magics</a></span><ul class=\"toc-item\"><li><span><a href=\"#Use-LaTeX-if-you-have-to-write-equations\" data-toc-modified-id=\"Use-LaTeX-if-you-have-to-write-equations-1.3.1\"><span class=\"toc-item-num\">1.3.1&nbsp;&nbsp;</span>Use LaTeX if you have to write equations</a></span></li><li><span><a href=\"#Timing\" data-toc-modified-id=\"Timing-1.3.2\"><span class=\"toc-item-num\">1.3.2&nbsp;&nbsp;</span>Timing</a></span></li><li><span><a href=\"#HTML\" data-toc-modified-id=\"HTML-1.3.3\"><span class=\"toc-item-num\">1.3.3&nbsp;&nbsp;</span>HTML</a></span></li></ul></li></ul></li><li><span><a href=\"#Use-LaTeX\" data-toc-modified-id=\"Use-LaTeX-2\"><span class=\"toc-item-num\">2&nbsp;&nbsp;</span>Use LaTeX</a></span></li></ul></div>"
   ]
  },
  {
   "cell_type": "markdown",
   "metadata": {},
   "source": [
    "# Customizing your Notebooks"
   ]
  },
  {
   "cell_type": "markdown",
   "metadata": {},
   "source": [
    "## Using shell commands in your Notebooks"
   ]
  },
  {
   "cell_type": "code",
   "execution_count": null,
   "metadata": {
    "pycharm": {
     "name": "#%%\n"
    }
   },
   "outputs": [],
   "source": [
    "!pwd\n",
    "!cd ..\n",
    "!pwd\n",
    "!ls -all | wc -l"
   ]
  },
  {
   "cell_type": "markdown",
   "metadata": {},
   "source": [
    "## Installing Python packages"
   ]
  },
  {
   "cell_type": "code",
   "execution_count": null,
   "metadata": {
    "pycharm": {
     "name": "#%%\n"
    }
   },
   "outputs": [],
   "source": [
    "# call pip install here"
   ]
  },
  {
   "cell_type": "markdown",
   "metadata": {},
   "source": [
    "## Magics\n",
    "### Use LaTeX if you have to write equations\n",
    "Put the equation below"
   ]
  },
  {
   "cell_type": "code",
   "execution_count": null,
   "metadata": {
    "pycharm": {
     "name": "#%%\n"
    }
   },
   "outputs": [],
   "source": [
    "%%latex\n"
   ]
  },
  {
   "cell_type": "markdown",
   "metadata": {},
   "source": [
    "### Timing\n",
    "Let's see which implementation of factorial runs faster."
   ]
  },
  {
   "cell_type": "code",
   "execution_count": null,
   "metadata": {
    "pycharm": {
     "name": "#%%\n"
    }
   },
   "outputs": [],
   "source": [
    "def factorialA(n):\n",
    "    fact = 1\n",
    "    for i in range(1, n + 1):\n",
    "        fact = fact * i\n",
    "    return fact\n",
    "\n",
    "\n",
    "def factorialB(n):\n",
    "    if n == 1:\n",
    "        return n\n",
    "    else:\n",
    "        return n * factorialB(n - 1)"
   ]
  },
  {
   "cell_type": "markdown",
   "metadata": {},
   "source": [
    "See the differences in runtime.\n",
    "Call timeit on factorialA below."
   ]
  },
  {
   "cell_type": "code",
   "execution_count": null,
   "metadata": {
    "pycharm": {
     "name": "#%%\n"
    }
   },
   "outputs": [],
   "source": []
  },
  {
   "cell_type": "markdown",
   "metadata": {},
   "source": [
    "Call timeit on factorialB below."
   ]
  },
  {
   "cell_type": "code",
   "execution_count": null,
   "metadata": {
    "pycharm": {
     "name": "#%%\n"
    }
   },
   "outputs": [],
   "source": []
  },
  {
   "cell_type": "markdown",
   "metadata": {},
   "source": [
    "### HTML\n",
    "Insert an iframe below. Put your definition of combinations below.\n",
    "Check the [itertool](https://docs.python.org/3/library/itertools.html#itertools.combinations)\n",
    "documentation for inspiration or copy and\n",
    "paste the code you find there. "
   ]
  },
  {
   "cell_type": "code",
   "execution_count": null,
   "metadata": {
    "pycharm": {
     "name": "#%%\n"
    }
   },
   "outputs": [],
   "source": []
  },
  {
   "cell_type": "markdown",
   "metadata": {},
   "source": [
    "# Use LaTeX\n",
    "You can write inline equations, like this one $a^2 + b^2 = c^2$.\n",
    "\n",
    "And you can insert equations separately.\n",
    "\\begin{equation*}\n",
    "P(E)   = {n \\choose k} p^k (1-p)^{ n-k}\n",
    "\\end{equation*}\n"
   ]
  }
 ],
 "metadata": {
  "kernelspec": {
   "display_name": "Python 3",
   "language": "python",
   "name": "python3"
  },
  "language_info": {
   "codemirror_mode": {
    "name": "ipython",
    "version": 3
   },
   "file_extension": ".py",
   "mimetype": "text/x-python",
   "name": "python",
   "nbconvert_exporter": "python",
   "pygments_lexer": "ipython3",
   "version": "3.8.5"
  },
  "toc": {
   "base_numbering": 1,
   "nav_menu": {},
   "number_sections": true,
   "sideBar": true,
   "skip_h1_title": false,
   "title_cell": "Table of Contents",
   "title_sidebar": "Contents",
   "toc_cell": true,
   "toc_position": {},
   "toc_section_display": true,
   "toc_window_display": false
  },
  "varInspector": {
   "cols": {
    "lenName": 16,
    "lenType": 16,
    "lenVar": 40
   },
   "kernels_config": {
    "python": {
     "delete_cmd_postfix": "",
     "delete_cmd_prefix": "del ",
     "library": "var_list.py",
     "varRefreshCmd": "print(var_dic_list())"
    },
    "r": {
     "delete_cmd_postfix": ") ",
     "delete_cmd_prefix": "rm(",
     "library": "var_list.r",
     "varRefreshCmd": "cat(var_dic_list()) "
    }
   },
   "types_to_exclude": [
    "module",
    "function",
    "builtin_function_or_method",
    "instance",
    "_Feature"
   ],
   "window_display": false
  }
 },
 "nbformat": 4,
 "nbformat_minor": 1
}
