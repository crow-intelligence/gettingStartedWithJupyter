{
 "cells": [
  {
   "cell_type": "markdown",
   "metadata": {
    "toc": true
   },
   "source": [
    "<h1>Table of Contents<span class=\"tocSkip\"></span></h1>\n",
    "<div class=\"toc\"><ul class=\"toc-item\"><li><span><a href=\"#Getting-Started-with-Jupyter\" data-toc-modified-id=\"Getting-Started-with-Jupyter-1\"><span class=\"toc-item-num\">1&nbsp;&nbsp;</span>Getting Started with Jupyter</a></span><ul class=\"toc-item\"><li><span><a href=\"#Milestone-1---Setting-up-the-environment\" data-toc-modified-id=\"Milestone-1---Setting-up-the-environment-1.1\"><span class=\"toc-item-num\">1.1&nbsp;&nbsp;</span>Milestone 1 - Setting up the environment</a></span></li></ul></li><li><span><a href=\"#Hello,-World!\" data-toc-modified-id=\"Hello,-World!-2\"><span class=\"toc-item-num\">2&nbsp;&nbsp;</span>Hello, World!</a></span><ul class=\"toc-item\"><li><span><a href=\"#A-function-to-greet-everyone!\" data-toc-modified-id=\"A-function-to-greet-everyone!-2.1\"><span class=\"toc-item-num\">2.1&nbsp;&nbsp;</span>A function to greet everyone!</a></span></li></ul></li></ul></div>"
   ]
  },
  {
   "cell_type": "markdown",
   "metadata": {},
   "source": [
    "# Getting Started with Jupyter\n",
    "## Milestone 1 - Setting up the environment"
   ]
  },
  {
   "cell_type": "markdown",
   "metadata": {},
   "source": [
    "# Hello, World!\n",
    "## A function to greet everyone!\n",
    "This function takes no arguments and it simply prints out the phrase, \"Hello, World!\""
   ]
  },
  {
   "cell_type": "code",
   "execution_count": 1,
   "metadata": {},
   "outputs": [
    {
     "name": "stdout",
     "output_type": "stream",
     "text": [
      "Hello, World!\n"
     ]
    }
   ],
   "source": [
    "def hello_world():\n",
    "    print(\"Hello, World!\")\n",
    "\n",
    "hello_world()"
   ]
  }
 ],
 "metadata": {
  "kernelspec": {
   "display_name": "venv",
   "language": "python",
   "name": "venv"
  },
  "language_info": {
   "codemirror_mode": {
    "name": "ipython",
    "version": 3
   },
   "file_extension": ".py",
   "mimetype": "text/x-python",
   "name": "python",
   "nbconvert_exporter": "python",
   "pygments_lexer": "ipython3",
   "version": "3.8.5"
  },
  "toc": {
   "base_numbering": 1,
   "nav_menu": {},
   "number_sections": true,
   "sideBar": true,
   "skip_h1_title": false,
   "title_cell": "Table of Contents",
   "title_sidebar": "Contents",
   "toc_cell": true,
   "toc_position": {},
   "toc_section_display": true,
   "toc_window_display": false
  },
  "varInspector": {
   "cols": {
    "lenName": 16,
    "lenType": 16,
    "lenVar": 40
   },
   "kernels_config": {
    "python": {
     "delete_cmd_postfix": "",
     "delete_cmd_prefix": "del ",
     "library": "var_list.py",
     "varRefreshCmd": "print(var_dic_list())"
    },
    "r": {
     "delete_cmd_postfix": ") ",
     "delete_cmd_prefix": "rm(",
     "library": "var_list.r",
     "varRefreshCmd": "cat(var_dic_list()) "
    }
   },
   "types_to_exclude": [
    "module",
    "function",
    "builtin_function_or_method",
    "instance",
    "_Feature"
   ],
   "window_display": false
  }
 },
 "nbformat": 4,
 "nbformat_minor": 4
}