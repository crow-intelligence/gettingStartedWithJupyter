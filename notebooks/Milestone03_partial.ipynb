{
 "cells": [
  {
   "cell_type": "markdown",
   "metadata": {
    "toc": true
   },
   "source": [
    "<h1>Table of Contents<span class=\"tocSkip\"></span></h1>\n",
    "<div class=\"toc\"><ul class=\"toc-item\"><li><span><a href=\"#Milestone-3:-Using-Notebooks-in-Data-Science-projects\" data-toc-modified-id=\"Milestone-3:-Using-Notebooks-in-Data-Science-projects-1\"><span class=\"toc-item-num\">1&nbsp;&nbsp;</span>Milestone 3: Using Notebooks in Data Science projects</a></span><ul class=\"toc-item\"><li><span><a href=\"#knn\" data-toc-modified-id=\"knn-1.1\"><span class=\"toc-item-num\">1.1&nbsp;&nbsp;</span>knn</a></span></li></ul></li><li><span><a href=\"#Evaluation-of-knn\" data-toc-modified-id=\"Evaluation-of-knn-2\"><span class=\"toc-item-num\">2&nbsp;&nbsp;</span>Evaluation of knn</a></span><ul class=\"toc-item\"><li><span><a href=\"#Reading-our-data\" data-toc-modified-id=\"Reading-our-data-2.1\"><span class=\"toc-item-num\">2.1&nbsp;&nbsp;</span>Reading our data</a></span></li><li><span><a href=\"#The-actual-test\" data-toc-modified-id=\"The-actual-test-2.2\"><span class=\"toc-item-num\">2.2&nbsp;&nbsp;</span>The actual test</a></span></li><li><span><a href=\"#Plotting\" data-toc-modified-id=\"Plotting-2.3\"><span class=\"toc-item-num\">2.3&nbsp;&nbsp;</span>Plotting</a></span></li></ul></li></ul></div>"
   ]
  },
  {
   "cell_type": "markdown",
   "metadata": {},
   "source": [
    "<h1>Table of Contents<span class=\"tocSkip\"></span></h1>\n",
    "<div class=\"toc\"><ul class=\"toc-item\"><li><span><a href=\"#Milestone-3:-Using-Notebooks-in-Data-Science-projects\" data-toc-modified-id=\"Milestone-3:-Using-Notebooks-in-Data-Science-projects-1\"><span class=\"toc-item-num\">1&nbsp;&nbsp;</span>Milestone 3: Using Notebooks in Data Science projects</a></span><ul class=\"toc-item\"><li><span><a href=\"#knn\" data-toc-modified-id=\"knn-1.1\"><span class=\"toc-item-num\">1.1&nbsp;&nbsp;</span>knn</a></span></li></ul></li><li><span><a href=\"#Evaluation-of-knn\" data-toc-modified-id=\"Evaluation-of-knn-2\"><span class=\"toc-item-num\">2&nbsp;&nbsp;</span>Evaluation of knn</a></span><ul class=\"toc-item\"><li><span><a href=\"#Reading-our-data\" data-toc-modified-id=\"Reading-our-data-2.1\"><span class=\"toc-item-num\">2.1&nbsp;&nbsp;</span>Reading our data</a></span></li><li><span><a href=\"#The-actual-test\" data-toc-modified-id=\"The-actual-test-2.2\"><span class=\"toc-item-num\">2.2&nbsp;&nbsp;</span>The actual test</a></span></li><li><span><a href=\"#Plotting\" data-toc-modified-id=\"Plotting-2.3\"><span class=\"toc-item-num\">2.3&nbsp;&nbsp;</span>Plotting</a></span></li></ul></li></ul></div>"
   ]
  },
  {
   "cell_type": "markdown",
   "metadata": {},
   "source": [
    "# Milestone 3: Using Notebooks in Data Science projects\n",
    "## knn\n",
    "The [k-nearest neighbors algorithm](https://en.wikipedia.org/wiki/K-nearest_neighbors_algorithm) is a pretty neat solution to our problem. Below, you can find a naive implementation of it. It is using the Euclidean distance, $ d\\left( p,q\\right)   = \\sqrt {\\sum _{i=1}^{n}  \\left( q_{i}-p_{i}\\right)^2 } $, to compare elements and find the k-nearest ones from the training data. The k most similar will be used to \"vote\" to determine the class of the input."
   ]
  },
  {
   "cell_type": "code",
   "execution_count": null,
   "metadata": {
    "pycharm": {
     "name": "#%%\n"
    }
   },
   "outputs": [],
   "source": [
    "from numpy import *\n",
    "import operator\n",
    "\n",
    "\n",
    "def classify0(inX, dataSet, labels, k):\n",
    "    dataSetSize = dataSet.shape[0]\n",
    "    diffMat = tile(inX, (dataSetSize, 1)) - dataSet\n",
    "    sqDiffMat = diffMat ** 2\n",
    "    sqDistances = sqDiffMat.sum(axis=1)\n",
    "    distances = sqDistances ** 0.5\n",
    "    sortedDistIndicies = distances.argsort()\n",
    "    classCount = {}\n",
    "    for i in range(k):\n",
    "        voteIlabel = labels[sortedDistIndicies[i]]\n",
    "        classCount[voteIlabel] = classCount.get(voteIlabel, 0) + 1\n",
    "    sortedClassCount = sorted(\n",
    "        classCount.items(), key=operator.itemgetter(1), reverse=True\n",
    "    )\n",
    "    return sortedClassCount[0][0]"
   ]
  },
  {
   "cell_type": "markdown",
   "metadata": {},
   "source": [
    "# Evaluation of knn\n",
    "## Reading our data\n",
    "First, we need a helper functions which reads in and transforms our dataset."
   ]
  },
  {
   "cell_type": "code",
   "execution_count": null,
   "metadata": {
    "pycharm": {
     "name": "#%%\n"
    }
   },
   "outputs": [],
   "source": [
    "def file2matrix(filename):\n",
    "    fr = open(filename)\n",
    "    numberOfLines = len(fr.readlines())  # get the number of lines in the file\n",
    "    returnMat = zeros((numberOfLines, 3))  # prepare matrix to return\n",
    "    classLabelVector = []  # prepare labels return\n",
    "    fr = open(filename)  ### New heading\n",
    "    index = 0\n",
    "    for line in fr.readlines():\n",
    "        line = line.strip()\n",
    "        listFromLine = line.split(\"\\t\")\n",
    "        returnMat[index, :] = listFromLine[0:3]\n",
    "        classLabelVector.append(int(listFromLine[-1]))\n",
    "        index += 1\n",
    "    return returnMat, classLabelVector\n",
    "\n",
    "\n",
    "def autoNorm(dataSet):\n",
    "    minVals = dataSet.min(0)\n",
    "    maxVals = dataSet.max(0)\n",
    "    ranges = maxVals - minVals\n",
    "    normDataSet = zeros(shape(dataSet))\n",
    "    m = dataSet.shape[0]\n",
    "    normDataSet = dataSet - tile(minVals, (m, 1))\n",
    "    normDataSet = normDataSet / tile(ranges, (m, 1))  # element wise divide\n",
    "    return normDataSet, ranges, minVals"
   ]
  },
  {
   "cell_type": "markdown",
   "metadata": {},
   "source": [
    "## The actual test\n",
    "Here we define a test which will calculate the total error rate."
   ]
  },
  {
   "cell_type": "code",
   "execution_count": null,
   "metadata": {
    "pycharm": {
     "name": "#%%\n"
    }
   },
   "outputs": [],
   "source": [
    "def datingClassTest():\n",
    "    hoRatio = 0.50  # hold out 50%\n",
    "    datingDataMat, datingLabels = file2matrix(\n",
    "        \"/home/zoli/PycharmProjects/gettingStartedWithJupyter/data/datingTestSet2.txt\"\n",
    "    )  # load data setfrom file\n",
    "    normMat, ranges, minVals = autoNorm(datingDataMat)\n",
    "    m = normMat.shape[0]\n",
    "    numTestVecs = int(m * hoRatio)\n",
    "    errorCount = 0.0\n",
    "    for i in range(numTestVecs):\n",
    "        classifierResult = classify0(\n",
    "\n",
    "            normMat[i, :], normMat[numTestVecs:m, :], datingLabels[numTestVecs:m], 3\n",
    "        )\n",
    "        print(\"the classifier came back with: %d, the real answer is: %d\" % (\n",
    "            classifierResult,\n",
    "            datingLabels[i],\n",
    "        ))\n",
    "        if classifierResult != datingLabels[i]:\n",
    "            errorCount += 1.0\n",
    "    print(\"the total error rate is: %f\" % (errorCount / float(numTestVecs)))\n",
    "    print(errorCount)\n",
    "\n",
    "\n",
    "datingClassTest()"
   ]
  },
  {
   "cell_type": "markdown",
   "metadata": {},
   "source": [
    "## Plotting\n",
    "Wirte you plotting code below."
   ]
  },
  {
   "cell_type": "code",
   "execution_count": null,
   "metadata": {
    "pycharm": {
     "name": "#%%\n"
    }
   },
   "outputs": [],
   "source": []
  }
 ],
 "metadata": {
  "kernelspec": {
   "display_name": "Python 3",
   "language": "python",
   "name": "python3"
  },
  "language_info": {
   "codemirror_mode": {
    "name": "ipython",
    "version": 3
   },
   "file_extension": ".py",
   "mimetype": "text/x-python",
   "name": "python",
   "nbconvert_exporter": "python",
   "pygments_lexer": "ipython3",
   "version": "3.8.5"
  },
  "toc": {
   "base_numbering": 1,
   "nav_menu": {},
   "number_sections": true,
   "sideBar": true,
   "skip_h1_title": false,
   "title_cell": "Table of Contents",
   "title_sidebar": "Contents",
   "toc_cell": true,
   "toc_position": {},
   "toc_section_display": true,
   "toc_window_display": false
  },
  "varInspector": {
   "cols": {
    "lenName": 16,
    "lenType": 16,
    "lenVar": 40
   },
   "kernels_config": {
    "python": {
     "delete_cmd_postfix": "",
     "delete_cmd_prefix": "del ",
     "library": "var_list.py",
     "varRefreshCmd": "print(var_dic_list())"
    },
    "r": {
     "delete_cmd_postfix": ") ",
     "delete_cmd_prefix": "rm(",
     "library": "var_list.r",
     "varRefreshCmd": "cat(var_dic_list()) "
    }
   },
   "types_to_exclude": [
    "module",
    "function",
    "builtin_function_or_method",
    "instance",
    "_Feature"
   ],
   "window_display": false
  }
 },
 "nbformat": 4,
 "nbformat_minor": 1
}